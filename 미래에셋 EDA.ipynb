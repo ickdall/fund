{
 "cells": [
  {
   "cell_type": "code",
   "execution_count": 1,
   "metadata": {},
   "outputs": [],
   "source": [
    "import pandas as pd"
   ]
  },
  {
   "cell_type": "code",
   "execution_count": 2,
   "metadata": {},
   "outputs": [],
   "source": [
    "data = pd.read_excel('D:/mali_data1.xlsx')"
   ]
  },
  {
   "cell_type": "code",
   "execution_count": 4,
   "metadata": {
    "scrolled": true
   },
   "outputs": [
    {
     "data": {
      "text/html": [
       "<div>\n",
       "<style scoped>\n",
       "    .dataframe tbody tr th:only-of-type {\n",
       "        vertical-align: middle;\n",
       "    }\n",
       "\n",
       "    .dataframe tbody tr th {\n",
       "        vertical-align: top;\n",
       "    }\n",
       "\n",
       "    .dataframe thead th {\n",
       "        text-align: right;\n",
       "    }\n",
       "</style>\n",
       "<table border=\"1\" class=\"dataframe\">\n",
       "  <thead>\n",
       "    <tr style=\"text-align: right;\">\n",
       "      <th></th>\n",
       "      <th>gid</th>\n",
       "      <th>base_ym</th>\n",
       "      <th>product_cd</th>\n",
       "      <th>age_cd</th>\n",
       "      <th>channel_cd</th>\n",
       "      <th>gender</th>\n",
       "      <th>job_cd</th>\n",
       "      <th>pay_prd</th>\n",
       "      <th>loan_yn</th>\n",
       "      <th>rider</th>\n",
       "      <th>...</th>\n",
       "      <th>operation_conm</th>\n",
       "      <th>fund_expln</th>\n",
       "      <th>stck_expln</th>\n",
       "      <th>finan_bond_expln</th>\n",
       "      <th>fund_aset_cd</th>\n",
       "      <th>fund_stle_cd</th>\n",
       "      <th>insur_as_fund_cd</th>\n",
       "      <th>fund_diff_cd</th>\n",
       "      <th>finan_bond_cd</th>\n",
       "      <th>feh_cd</th>\n",
       "    </tr>\n",
       "  </thead>\n",
       "  <tbody>\n",
       "    <tr>\n",
       "      <th>0</th>\n",
       "      <td>7766143</td>\n",
       "      <td>2020-11-01</td>\n",
       "      <td>2</td>\n",
       "      <td>41_55</td>\n",
       "      <td>2</td>\n",
       "      <td>0</td>\n",
       "      <td>B</td>\n",
       "      <td>1</td>\n",
       "      <td>0</td>\n",
       "      <td>1</td>\n",
       "      <td>...</td>\n",
       "      <td>이스트스프링자산운용</td>\n",
       "      <td>자산의 60% 이상을 아시아 국가의 인프라관련 주식 및 아시아국가 인프라 주식을 주...</td>\n",
       "      <td>60% 이상을 아시아 각국의 인프라 산업과 관련된 주식 및 주식형 펀드</td>\n",
       "      <td>40% 이내에서 현예금(외화 현예금 포함), MMF 등을 포함한 유동성 자산</td>\n",
       "      <td>8</td>\n",
       "      <td>6</td>\n",
       "      <td>KLVL3400W15</td>\n",
       "      <td>2</td>\n",
       "      <td>2</td>\n",
       "      <td>2</td>\n",
       "    </tr>\n",
       "    <tr>\n",
       "      <th>1</th>\n",
       "      <td>7766143</td>\n",
       "      <td>2020-03-01</td>\n",
       "      <td>2</td>\n",
       "      <td>41_55</td>\n",
       "      <td>2</td>\n",
       "      <td>0</td>\n",
       "      <td>B</td>\n",
       "      <td>1</td>\n",
       "      <td>0</td>\n",
       "      <td>1</td>\n",
       "      <td>...</td>\n",
       "      <td>KB자산운용</td>\n",
       "      <td>MMF형 펀드, 콜론 등의 단기유동성 금융자산에 90% 이상 투자</td>\n",
       "      <td>투자하지 않음</td>\n",
       "      <td>단기유동성 금융자산</td>\n",
       "      <td>4</td>\n",
       "      <td>9</td>\n",
       "      <td>KLVL3400V14</td>\n",
       "      <td>4</td>\n",
       "      <td>1</td>\n",
       "      <td>2</td>\n",
       "    </tr>\n",
       "    <tr>\n",
       "      <th>2</th>\n",
       "      <td>7766143</td>\n",
       "      <td>2020-05-01</td>\n",
       "      <td>2</td>\n",
       "      <td>41_55</td>\n",
       "      <td>2</td>\n",
       "      <td>0</td>\n",
       "      <td>B</td>\n",
       "      <td>1</td>\n",
       "      <td>0</td>\n",
       "      <td>1</td>\n",
       "      <td>...</td>\n",
       "      <td>교보악사자산운용</td>\n",
       "      <td>자산의 50%를 주식 및 주식형펀드, 50%를 채권 및 채권형펀드에 투자</td>\n",
       "      <td>50%를 주식 및 주식형 펀드, 20% 범위 내에서 증감이 가능</td>\n",
       "      <td>50%를 채권 및 채권형 펀드, 20% 범위 내에서 증감이 가능, 현예금, MMF ...</td>\n",
       "      <td>1</td>\n",
       "      <td>2</td>\n",
       "      <td>KLVL3400V12</td>\n",
       "      <td>3</td>\n",
       "      <td>2</td>\n",
       "      <td>2</td>\n",
       "    </tr>\n",
       "    <tr>\n",
       "      <th>3</th>\n",
       "      <td>7766143</td>\n",
       "      <td>2020-06-01</td>\n",
       "      <td>2</td>\n",
       "      <td>41_55</td>\n",
       "      <td>2</td>\n",
       "      <td>0</td>\n",
       "      <td>B</td>\n",
       "      <td>1</td>\n",
       "      <td>0</td>\n",
       "      <td>1</td>\n",
       "      <td>...</td>\n",
       "      <td>이스트스프링자산운용</td>\n",
       "      <td>자산의 60% 이상을 아시아 국가의 인프라관련 주식 및 아시아국가 인프라 주식을 주...</td>\n",
       "      <td>60% 이상을 아시아 각국의 인프라 산업과 관련된 주식 및 주식형 펀드</td>\n",
       "      <td>40% 이내에서 현예금(외화 현예금 포함), MMF 등을 포함한 유동성 자산</td>\n",
       "      <td>8</td>\n",
       "      <td>6</td>\n",
       "      <td>KLVL3400W15</td>\n",
       "      <td>2</td>\n",
       "      <td>2</td>\n",
       "      <td>2</td>\n",
       "    </tr>\n",
       "    <tr>\n",
       "      <th>4</th>\n",
       "      <td>7766143</td>\n",
       "      <td>2020-02-01</td>\n",
       "      <td>2</td>\n",
       "      <td>41_55</td>\n",
       "      <td>2</td>\n",
       "      <td>0</td>\n",
       "      <td>B</td>\n",
       "      <td>1</td>\n",
       "      <td>0</td>\n",
       "      <td>1</td>\n",
       "      <td>...</td>\n",
       "      <td>이스트스프링자산운용</td>\n",
       "      <td>전세계의 고배당 주식, 고수익 채권 등 안정적인 배당 및 이자수익 등을 제공하는 다...</td>\n",
       "      <td>60% 이상을 고배당 주식, 고수익 채권 등 안정적인 배당 및 이자수익을 추구하는 ...</td>\n",
       "      <td>60% 이상을 고배당 주식, 고수익 채권 등 안정적인 배당 및 이자수익을 추구하는 ...</td>\n",
       "      <td>10</td>\n",
       "      <td>10</td>\n",
       "      <td>KLVL3400W39</td>\n",
       "      <td>5</td>\n",
       "      <td>2</td>\n",
       "      <td>1</td>\n",
       "    </tr>\n",
       "    <tr>\n",
       "      <th>...</th>\n",
       "      <td>...</td>\n",
       "      <td>...</td>\n",
       "      <td>...</td>\n",
       "      <td>...</td>\n",
       "      <td>...</td>\n",
       "      <td>...</td>\n",
       "      <td>...</td>\n",
       "      <td>...</td>\n",
       "      <td>...</td>\n",
       "      <td>...</td>\n",
       "      <td>...</td>\n",
       "      <td>...</td>\n",
       "      <td>...</td>\n",
       "      <td>...</td>\n",
       "      <td>...</td>\n",
       "      <td>...</td>\n",
       "      <td>...</td>\n",
       "      <td>...</td>\n",
       "      <td>...</td>\n",
       "      <td>...</td>\n",
       "      <td>...</td>\n",
       "    </tr>\n",
       "    <tr>\n",
       "      <th>1048570</th>\n",
       "      <td>4166382</td>\n",
       "      <td>2020-11-01</td>\n",
       "      <td>2</td>\n",
       "      <td>41_55</td>\n",
       "      <td>1</td>\n",
       "      <td>1</td>\n",
       "      <td>C</td>\n",
       "      <td>1</td>\n",
       "      <td>0</td>\n",
       "      <td>0</td>\n",
       "      <td>...</td>\n",
       "      <td>이스트스프링자산운용</td>\n",
       "      <td>홍콩 주식시장 등에 상장된 중국 기업 뿐 아니라 중국 본토 주식시장에 상장된 중국 ...</td>\n",
       "      <td>60% 이상을 중국 본토와 홍콩에 상장된 중국 주식 및 주식형 펀드</td>\n",
       "      <td>40% 이내에서 현예금(외화 현예금 포함), MMF 등을 포함한 유동성 자산</td>\n",
       "      <td>8</td>\n",
       "      <td>6</td>\n",
       "      <td>KLVL3400W28</td>\n",
       "      <td>2</td>\n",
       "      <td>2</td>\n",
       "      <td>2</td>\n",
       "    </tr>\n",
       "    <tr>\n",
       "      <th>1048571</th>\n",
       "      <td>4166382</td>\n",
       "      <td>2020-01-01</td>\n",
       "      <td>2</td>\n",
       "      <td>41_55</td>\n",
       "      <td>1</td>\n",
       "      <td>1</td>\n",
       "      <td>C</td>\n",
       "      <td>1</td>\n",
       "      <td>0</td>\n",
       "      <td>0</td>\n",
       "      <td>...</td>\n",
       "      <td>KB자산운용</td>\n",
       "      <td>유동성이 높고 위험이 적은 단기금융상품(MMF)으로 운용하여 예금 수준의 안정적 이...</td>\n",
       "      <td>투자하지 않음</td>\n",
       "      <td>콜론(CALL LOAN), 기업어음(CP), 양도성예금증서(CD), 증권어음, 수익...</td>\n",
       "      <td>4</td>\n",
       "      <td>9</td>\n",
       "      <td>KLVL34000NM</td>\n",
       "      <td>4</td>\n",
       "      <td>1</td>\n",
       "      <td>2</td>\n",
       "    </tr>\n",
       "    <tr>\n",
       "      <th>1048572</th>\n",
       "      <td>4166382</td>\n",
       "      <td>2020-12-01</td>\n",
       "      <td>2</td>\n",
       "      <td>41_55</td>\n",
       "      <td>1</td>\n",
       "      <td>1</td>\n",
       "      <td>C</td>\n",
       "      <td>1</td>\n",
       "      <td>0</td>\n",
       "      <td>0</td>\n",
       "      <td>...</td>\n",
       "      <td>KB자산운용</td>\n",
       "      <td>자산의 100% 이하를 국내채권 및 국내 채권형 펀드에 투자</td>\n",
       "      <td>투자하지 않음</td>\n",
       "      <td>100% 이하를국내 채권 및 채권형 펀드</td>\n",
       "      <td>4</td>\n",
       "      <td>8</td>\n",
       "      <td>KLVL3400W12</td>\n",
       "      <td>4</td>\n",
       "      <td>1</td>\n",
       "      <td>2</td>\n",
       "    </tr>\n",
       "    <tr>\n",
       "      <th>1048573</th>\n",
       "      <td>4166382</td>\n",
       "      <td>2020-01-01</td>\n",
       "      <td>2</td>\n",
       "      <td>41_55</td>\n",
       "      <td>1</td>\n",
       "      <td>1</td>\n",
       "      <td>C</td>\n",
       "      <td>1</td>\n",
       "      <td>0</td>\n",
       "      <td>0</td>\n",
       "      <td>...</td>\n",
       "      <td>이스트스프링자산운용</td>\n",
       "      <td>KOSPI200 지수의 수익률을 추종하도록 주식 및 주식형 펀드에 순자산의 60% ...</td>\n",
       "      <td>60% 이상을 KOSPI200 지수의 수익률을 추종하도록 주식 및 주식형 펀드</td>\n",
       "      <td>40% 이내에서 현예금, MMF 등을 포함한 유동성 자산</td>\n",
       "      <td>2</td>\n",
       "      <td>1</td>\n",
       "      <td>KLVL3400W35</td>\n",
       "      <td>2</td>\n",
       "      <td>2</td>\n",
       "      <td>2</td>\n",
       "    </tr>\n",
       "    <tr>\n",
       "      <th>1048574</th>\n",
       "      <td>4166382</td>\n",
       "      <td>2020-11-01</td>\n",
       "      <td>2</td>\n",
       "      <td>41_55</td>\n",
       "      <td>1</td>\n",
       "      <td>1</td>\n",
       "      <td>C</td>\n",
       "      <td>1</td>\n",
       "      <td>0</td>\n",
       "      <td>0</td>\n",
       "      <td>...</td>\n",
       "      <td>미래에셋자산운용</td>\n",
       "      <td>KOSPI 200 인덱스를 추종하는 국내 주식 및 주식형펀드와 국내 채권 및 채권형...</td>\n",
       "      <td>70%를 주식 및 주식형펀드, 20% 범위 내에서 증감이 가능</td>\n",
       "      <td>30%를 국내 채권 및 국내채권형 펀드/유동성 자산,  20% 범위 내에서 증감이 가능</td>\n",
       "      <td>2</td>\n",
       "      <td>1</td>\n",
       "      <td>KLVL3400W23</td>\n",
       "      <td>2</td>\n",
       "      <td>2</td>\n",
       "      <td>2</td>\n",
       "    </tr>\n",
       "  </tbody>\n",
       "</table>\n",
       "<p>1048575 rows × 65 columns</p>\n",
       "</div>"
      ],
      "text/plain": [
       "             gid    base_ym  product_cd age_cd  channel_cd  gender job_cd  \\\n",
       "0        7766143 2020-11-01           2  41_55           2       0      B   \n",
       "1        7766143 2020-03-01           2  41_55           2       0      B   \n",
       "2        7766143 2020-05-01           2  41_55           2       0      B   \n",
       "3        7766143 2020-06-01           2  41_55           2       0      B   \n",
       "4        7766143 2020-02-01           2  41_55           2       0      B   \n",
       "...          ...        ...         ...    ...         ...     ...    ...   \n",
       "1048570  4166382 2020-11-01           2  41_55           1       1      C   \n",
       "1048571  4166382 2020-01-01           2  41_55           1       1      C   \n",
       "1048572  4166382 2020-12-01           2  41_55           1       1      C   \n",
       "1048573  4166382 2020-01-01           2  41_55           1       1      C   \n",
       "1048574  4166382 2020-11-01           2  41_55           1       1      C   \n",
       "\n",
       "         pay_prd  loan_yn  rider  ...  operation_conm  \\\n",
       "0              1        0      1  ...      이스트스프링자산운용   \n",
       "1              1        0      1  ...          KB자산운용   \n",
       "2              1        0      1  ...        교보악사자산운용   \n",
       "3              1        0      1  ...      이스트스프링자산운용   \n",
       "4              1        0      1  ...      이스트스프링자산운용   \n",
       "...          ...      ...    ...  ...             ...   \n",
       "1048570        1        0      0  ...      이스트스프링자산운용   \n",
       "1048571        1        0      0  ...          KB자산운용   \n",
       "1048572        1        0      0  ...          KB자산운용   \n",
       "1048573        1        0      0  ...      이스트스프링자산운용   \n",
       "1048574        1        0      0  ...        미래에셋자산운용   \n",
       "\n",
       "                                                fund_expln  \\\n",
       "0        자산의 60% 이상을 아시아 국가의 인프라관련 주식 및 아시아국가 인프라 주식을 주...   \n",
       "1                     MMF형 펀드, 콜론 등의 단기유동성 금융자산에 90% 이상 투자   \n",
       "2                 자산의 50%를 주식 및 주식형펀드, 50%를 채권 및 채권형펀드에 투자   \n",
       "3        자산의 60% 이상을 아시아 국가의 인프라관련 주식 및 아시아국가 인프라 주식을 주...   \n",
       "4        전세계의 고배당 주식, 고수익 채권 등 안정적인 배당 및 이자수익 등을 제공하는 다...   \n",
       "...                                                    ...   \n",
       "1048570  홍콩 주식시장 등에 상장된 중국 기업 뿐 아니라 중국 본토 주식시장에 상장된 중국 ...   \n",
       "1048571  유동성이 높고 위험이 적은 단기금융상품(MMF)으로 운용하여 예금 수준의 안정적 이...   \n",
       "1048572                  자산의 100% 이하를 국내채권 및 국내 채권형 펀드에 투자   \n",
       "1048573  KOSPI200 지수의 수익률을 추종하도록 주식 및 주식형 펀드에 순자산의 60% ...   \n",
       "1048574  KOSPI 200 인덱스를 추종하는 국내 주식 및 주식형펀드와 국내 채권 및 채권형...   \n",
       "\n",
       "                                                stck_expln  \\\n",
       "0                  60% 이상을 아시아 각국의 인프라 산업과 관련된 주식 및 주식형 펀드   \n",
       "1                                                  투자하지 않음   \n",
       "2                      50%를 주식 및 주식형 펀드, 20% 범위 내에서 증감이 가능   \n",
       "3                  60% 이상을 아시아 각국의 인프라 산업과 관련된 주식 및 주식형 펀드   \n",
       "4        60% 이상을 고배당 주식, 고수익 채권 등 안정적인 배당 및 이자수익을 추구하는 ...   \n",
       "...                                                    ...   \n",
       "1048570              60% 이상을 중국 본토와 홍콩에 상장된 중국 주식 및 주식형 펀드   \n",
       "1048571                                            투자하지 않음   \n",
       "1048572                                            투자하지 않음   \n",
       "1048573        60% 이상을 KOSPI200 지수의 수익률을 추종하도록 주식 및 주식형 펀드   \n",
       "1048574                 70%를 주식 및 주식형펀드, 20% 범위 내에서 증감이 가능   \n",
       "\n",
       "                                          finan_bond_expln  fund_aset_cd  \\\n",
       "0               40% 이내에서 현예금(외화 현예금 포함), MMF 등을 포함한 유동성 자산             8   \n",
       "1                                               단기유동성 금융자산             4   \n",
       "2        50%를 채권 및 채권형 펀드, 20% 범위 내에서 증감이 가능, 현예금, MMF ...             1   \n",
       "3               40% 이내에서 현예금(외화 현예금 포함), MMF 등을 포함한 유동성 자산             8   \n",
       "4        60% 이상을 고배당 주식, 고수익 채권 등 안정적인 배당 및 이자수익을 추구하는 ...            10   \n",
       "...                                                    ...           ...   \n",
       "1048570         40% 이내에서 현예금(외화 현예금 포함), MMF 등을 포함한 유동성 자산             8   \n",
       "1048571  콜론(CALL LOAN), 기업어음(CP), 양도성예금증서(CD), 증권어음, 수익...             4   \n",
       "1048572                             100% 이하를국내 채권 및 채권형 펀드             4   \n",
       "1048573                    40% 이내에서 현예금, MMF 등을 포함한 유동성 자산             2   \n",
       "1048574   30%를 국내 채권 및 국내채권형 펀드/유동성 자산,  20% 범위 내에서 증감이 가능             2   \n",
       "\n",
       "         fund_stle_cd  insur_as_fund_cd  fund_diff_cd  finan_bond_cd  feh_cd  \n",
       "0                   6       KLVL3400W15             2              2       2  \n",
       "1                   9       KLVL3400V14             4              1       2  \n",
       "2                   2       KLVL3400V12             3              2       2  \n",
       "3                   6       KLVL3400W15             2              2       2  \n",
       "4                  10       KLVL3400W39             5              2       1  \n",
       "...               ...               ...           ...            ...     ...  \n",
       "1048570             6       KLVL3400W28             2              2       2  \n",
       "1048571             9       KLVL34000NM             4              1       2  \n",
       "1048572             8       KLVL3400W12             4              1       2  \n",
       "1048573             1       KLVL3400W35             2              2       2  \n",
       "1048574             1       KLVL3400W23             2              2       2  \n",
       "\n",
       "[1048575 rows x 65 columns]"
      ]
     },
     "execution_count": 4,
     "metadata": {},
     "output_type": "execute_result"
    }
   ],
   "source": [
    "data"
   ]
  },
  {
   "cell_type": "markdown",
   "metadata": {},
   "source": [
    "# EDA"
   ]
  },
  {
   "cell_type": "markdown",
   "metadata": {},
   "source": [
    "## 연령별범주코드"
   ]
  },
  {
   "cell_type": "markdown",
   "metadata": {},
   "source": [
    "### 연령범주코드별 펀드수익률평균값"
   ]
  },
  {
   "cell_type": "code",
   "execution_count": 5,
   "metadata": {},
   "outputs": [
    {
     "data": {
      "text/plain": [
       "<matplotlib.axes._subplots.AxesSubplot at 0x121e5f8aca0>"
      ]
     },
     "execution_count": 5,
     "metadata": {},
     "output_type": "execute_result"
    },
    {
     "data": {
      "image/png": "[encoded data removed]",
      "text/plain": [
       "<Figure size 432x288 with 1 Axes>"
      ]
     },
     "metadata": {
      "needs_background": "light"
     },
     "output_type": "display_data"
    }
   ],
   "source": [
    "data.groupby(['age_cd'])['fund_avg_income_ratio'].mean().plot.bar()"
   ]
  },
  {
   "cell_type": "markdown",
   "metadata": {},
   "source": [
    "### 연령별 투입금액의 평균값"
   ]
  },
  {
   "cell_type": "code",
   "execution_count": 6,
   "metadata": {
    "scrolled": false
   },
   "outputs": [
    {
     "data": {
      "text/plain": [
       "<matplotlib.axes._subplots.AxesSubplot at 0x121e607aa30>"
      ]
     },
     "execution_count": 6,
     "metadata": {},
     "output_type": "execute_result"
    },
    {
     "data": {
      "image/png": "[encoded data removed]",
      "text/plain": [
       "<Figure size 432x288 with 1 Axes>"
      ]
     },
     "metadata": {
      "needs_background": "light"
     },
     "output_type": "display_data"
    }
   ],
   "source": [
    "data.groupby(['age_cd'])['avg_in_fund_amt'].mean().plot.bar()"
   ]
  },
  {
   "cell_type": "markdown",
   "metadata": {},
   "source": [
    "### 연령별 인출금액의평균값"
   ]
  },
  {
   "cell_type": "code",
   "execution_count": 7,
   "metadata": {},
   "outputs": [
    {
     "data": {
      "text/plain": [
       "<matplotlib.axes._subplots.AxesSubplot at 0x121e60b6d90>"
      ]
     },
     "execution_count": 7,
     "metadata": {},
     "output_type": "execute_result"
    },
    {
     "data": {
      "image/png": "[encoded data removed]",
      "text/plain": [
       "<Figure size 432x288 with 1 Axes>"
      ]
     },
     "metadata": {
      "needs_background": "light"
     },
     "output_type": "display_data"
    }
   ],
   "source": [
    "data.groupby(['age_cd'])['avg_wd_fund_amt'].mean().plot.bar()"
   ]
  },
  {
   "cell_type": "markdown",
   "metadata": {},
   "source": [
    "## 성별"
   ]
  },
  {
   "cell_type": "markdown",
   "metadata": {},
   "source": [
    "### 성별 펀드수익률평균값"
   ]
  },
  {
   "cell_type": "code",
   "execution_count": 8,
   "metadata": {
    "scrolled": false
   },
   "outputs": [
    {
     "data": {
      "text/plain": [
       "<matplotlib.axes._subplots.AxesSubplot at 0x121e6117880>"
      ]
     },
     "execution_count": 8,
     "metadata": {},
     "output_type": "execute_result"
    },
    {
     "data": {
      "image/png": "[encoded data removed]",
      "text/plain": [
       "<Figure size 432x288 with 1 Axes>"
      ]
     },
     "metadata": {
      "needs_background": "light"
     },
     "output_type": "display_data"
    }
   ],
   "source": [
    "data.groupby(['gender'])['fund_avg_income_ratio'].mean().plot.bar()"
   ]
  },
  {
   "cell_type": "markdown",
   "metadata": {},
   "source": [
    "### 성별 투입금액평균값"
   ]
  },
  {
   "cell_type": "code",
   "execution_count": 9,
   "metadata": {
    "scrolled": true
   },
   "outputs": [
    {
     "data": {
      "text/plain": [
       "<matplotlib.axes._subplots.AxesSubplot at 0x121e615e0a0>"
      ]
     },
     "execution_count": 9,
     "metadata": {},
     "output_type": "execute_result"
    },
    {
     "data": {
      "image/png": "[encoded data removed]",
      "text/plain": [
       "<Figure size 432x288 with 1 Axes>"
      ]
     },
     "metadata": {
      "needs_background": "light"
     },
     "output_type": "display_data"
    }
   ],
   "source": [
    "data.groupby(['gender'])['avg_in_fund_amt'].mean().plot.bar()"
   ]
  },
  {
   "cell_type": "markdown",
   "metadata": {},
   "source": [
    "### 성별 인출금액의평균값"
   ]
  },
  {
   "cell_type": "code",
   "execution_count": 10,
   "metadata": {},
   "outputs": [
    {
     "data": {
      "text/plain": [
       "<matplotlib.axes._subplots.AxesSubplot at 0x121e61988e0>"
      ]
     },
     "execution_count": 10,
     "metadata": {},
     "output_type": "execute_result"
    },
    {
     "data": {
      "image/png": "[encoded data removed]",
      "text/plain": [
       "<Figure size 432x288 with 1 Axes>"
      ]
     },
     "metadata": {
      "needs_background": "light"
     },
     "output_type": "display_data"
    }
   ],
   "source": [
    "data.groupby(['gender'])['avg_wd_fund_amt'].mean().plot.bar()"
   ]
  },
  {
   "cell_type": "markdown",
   "metadata": {},
   "source": [
    "## 직업범주코드"
   ]
  },
  {
   "cell_type": "markdown",
   "metadata": {},
   "source": [
    "### 직업범주코드별 펀드수익률평균값"
   ]
  },
  {
   "cell_type": "code",
   "execution_count": 11,
   "metadata": {
    "scrolled": false
   },
   "outputs": [
    {
     "data": {
      "text/plain": [
       "<matplotlib.axes._subplots.AxesSubplot at 0x121e61d8100>"
      ]
     },
     "execution_count": 11,
     "metadata": {},
     "output_type": "execute_result"
    },
    {
     "data": {
      "image/png": "[encoded data removed]",
      "text/plain": [
       "<Figure size 432x288 with 1 Axes>"
      ]
     },
     "metadata": {
      "needs_background": "light"
     },
     "output_type": "display_data"
    }
   ],
   "source": [
    "data.groupby(['job_cd'])['fund_avg_income_ratio'].mean().plot.bar()"
   ]
  },
  {
   "cell_type": "markdown",
   "metadata": {},
   "source": [
    "### 직업범주코드별 투입금액평균값"
   ]
  },
  {
   "cell_type": "code",
   "execution_count": 12,
   "metadata": {
    "scrolled": false
   },
   "outputs": [
    {
     "data": {
      "text/plain": [
       "<matplotlib.axes._subplots.AxesSubplot at 0x121e62252e0>"
      ]
     },
     "execution_count": 12,
     "metadata": {},
     "output_type": "execute_result"
    },
    {
     "data": {
      "image/png": "[encoded data removed]",
      "text/plain": [
       "<Figure size 432x288 with 1 Axes>"
      ]
     },
     "metadata": {
      "needs_background": "light"
     },
     "output_type": "display_data"
    }
   ],
   "source": [
    "data.groupby(['job_cd'])['avg_in_fund_amt'].mean().plot.bar()"
   ]
  },
  {
   "cell_type": "markdown",
   "metadata": {},
   "source": [
    "### 직업범주코드별 인출금액의평균값"
   ]
  },
  {
   "cell_type": "code",
   "execution_count": 13,
   "metadata": {},
   "outputs": [
    {
     "data": {
      "text/plain": [
       "<matplotlib.axes._subplots.AxesSubplot at 0x121e62753a0>"
      ]
     },
     "execution_count": 13,
     "metadata": {},
     "output_type": "execute_result"
    },
    {
     "data": {
      "image/png": "[encoded data removed]",
      "text/plain": [
       "<Figure size 432x288 with 1 Axes>"
      ]
     },
     "metadata": {
      "needs_background": "light"
     },
     "output_type": "display_data"
    }
   ],
   "source": [
    "data.groupby(['job_cd'])['avg_wd_fund_amt'].mean().plot.bar()"
   ]
  },
  {
   "cell_type": "markdown",
   "metadata": {},
   "source": [
    "## 납입주기코드"
   ]
  },
  {
   "cell_type": "markdown",
   "metadata": {},
   "source": [
    "### 납입주기코드별 펀드수익률평균값"
   ]
  },
  {
   "cell_type": "code",
   "execution_count": 14,
   "metadata": {
    "scrolled": true
   },
   "outputs": [
    {
     "data": {
      "text/plain": [
       "<matplotlib.axes._subplots.AxesSubplot at 0x121e62c1c10>"
      ]
     },
     "execution_count": 14,
     "metadata": {},
     "output_type": "execute_result"
    },
    {
     "data": {
      "image/png": "[encoded data removed]",
      "text/plain": [
       "<Figure size 432x288 with 1 Axes>"
      ]
     },
     "metadata": {
      "needs_background": "light"
     },
     "output_type": "display_data"
    }
   ],
   "source": [
    "data.groupby(['pay_prd'])['fund_avg_income_ratio'].mean().plot.bar()"
   ]
  },
  {
   "cell_type": "markdown",
   "metadata": {},
   "source": [
    "### 납입주기코드별 투입금액평균값"
   ]
  },
  {
   "cell_type": "code",
   "execution_count": 15,
   "metadata": {
    "scrolled": true
   },
   "outputs": [
    {
     "data": {
      "text/plain": [
       "<matplotlib.axes._subplots.AxesSubplot at 0x121e62fa8b0>"
      ]
     },
     "execution_count": 15,
     "metadata": {},
     "output_type": "execute_result"
    },
    {
     "data": {
      "image/png": "[encoded data removed]",
      "text/plain": [
       "<Figure size 432x288 with 1 Axes>"
      ]
     },
     "metadata": {
      "needs_background": "light"
     },
     "output_type": "display_data"
    }
   ],
   "source": [
    "data.groupby(['pay_prd'])['avg_in_fund_amt'].mean().plot.bar()"
   ]
  },
  {
   "cell_type": "markdown",
   "metadata": {},
   "source": [
    "### 납입주기코드별 인출금액의평균값"
   ]
  },
  {
   "cell_type": "code",
   "execution_count": 16,
   "metadata": {},
   "outputs": [
    {
     "data": {
      "text/plain": [
       "<matplotlib.axes._subplots.AxesSubplot at 0x121e6340b80>"
      ]
     },
     "execution_count": 16,
     "metadata": {},
     "output_type": "execute_result"
    },
    {
     "data": {
      "image/png": "[encoded data removed]",
      "text/plain": [
       "<Figure size 432x288 with 1 Axes>"
      ]
     },
     "metadata": {
      "needs_background": "light"
     },
     "output_type": "display_data"
    }
   ],
   "source": [
    "data.groupby(['pay_prd'])['avg_wd_fund_amt'].mean().plot.bar()"
   ]
  },
  {
   "cell_type": "markdown",
   "metadata": {},
   "source": [
    "## 보험보유계약건수"
   ]
  },
  {
   "cell_type": "markdown",
   "metadata": {},
   "source": [
    "### 보험보유계약건수별 펀드수익률평균값"
   ]
  },
  {
   "cell_type": "code",
   "execution_count": 17,
   "metadata": {
    "scrolled": false
   },
   "outputs": [
    {
     "data": {
      "text/plain": [
       "<matplotlib.axes._subplots.AxesSubplot at 0x121e6394e80>"
      ]
     },
     "execution_count": 17,
     "metadata": {},
     "output_type": "execute_result"
    },
    {
     "data": {
      "image/png": "[encoded data removed]",
      "text/plain": [
       "<Figure size 432x288 with 1 Axes>"
      ]
     },
     "metadata": {
      "needs_background": "light"
     },
     "output_type": "display_data"
    }
   ],
   "source": [
    "data.groupby(['cntr_cnt'])['fund_avg_income_ratio'].mean().plot.bar()"
   ]
  },
  {
   "cell_type": "markdown",
   "metadata": {},
   "source": [
    "### 보험보유계약건수별 투입금액평균값"
   ]
  },
  {
   "cell_type": "code",
   "execution_count": 18,
   "metadata": {
    "scrolled": false
   },
   "outputs": [
    {
     "data": {
      "text/plain": [
       "<matplotlib.axes._subplots.AxesSubplot at 0x121e63cf280>"
      ]
     },
     "execution_count": 18,
     "metadata": {},
     "output_type": "execute_result"
    },
    {
     "data": {
      "image/png": "[encoded data removed]",
      "text/plain": [
       "<Figure size 432x288 with 1 Axes>"
      ]
     },
     "metadata": {
      "needs_background": "light"
     },
     "output_type": "display_data"
    }
   ],
   "source": [
    "data.groupby(['cntr_cnt'])['avg_in_fund_amt'].mean().plot.bar()"
   ]
  },
  {
   "cell_type": "markdown",
   "metadata": {},
   "source": [
    "### 보험보유계약건수별 인출금액의평균값"
   ]
  },
  {
   "cell_type": "code",
   "execution_count": 19,
   "metadata": {},
   "outputs": [
    {
     "data": {
      "text/plain": [
       "<matplotlib.axes._subplots.AxesSubplot at 0x121e6428070>"
      ]
     },
     "execution_count": 19,
     "metadata": {},
     "output_type": "execute_result"
    },
    {
     "data": {
      "image/png": "[encoded data removed]",
      "text/plain": [
       "<Figure size 432x288 with 1 Axes>"
      ]
     },
     "metadata": {
      "needs_background": "light"
     },
     "output_type": "display_data"
    }
   ],
   "source": [
    "data.groupby(['cntr_cnt'])['avg_wd_fund_amt'].mean().plot.bar()"
   ]
  },
  {
   "cell_type": "code",
   "execution_count": null,
   "metadata": {},
   "outputs": [],
   "source": []
  }
 ],
 "metadata": {
  "kernelspec": {
   "display_name": "Python 3",
   "language": "python",
   "name": "python3"
  },
  "language_info": {
   "codemirror_mode": {
    "name": "ipython",
    "version": 3
   },
   "file_extension": ".py",
   "mimetype": "text/x-python",
   "name": "python",
   "nbconvert_exporter": "python",
   "pygments_lexer": "ipython3",
   "version": "3.8.3"
  }
 },
 "nbformat": 4,
 "nbformat_minor": 4
}
